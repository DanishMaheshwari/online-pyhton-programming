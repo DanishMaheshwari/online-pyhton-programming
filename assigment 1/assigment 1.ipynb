{
 "cells": [
  {
   "cell_type": "markdown",
   "id": "2e05bc16",
   "metadata": {},
   "source": [
    "# ###Assigment 1"
   ]
  },
  {
   "cell_type": "code",
   "execution_count": 2,
   "id": "2d45b52a",
   "metadata": {},
   "outputs": [
    {
     "name": "stdout",
     "output_type": "stream",
     "text": [
      "Twinkle, twinkle, little star\n",
      "                  How I wonder what you are\n",
      "                         Up above the world so high\n",
      "                         Like a diamond in the sky\n",
      "Twinkle, twinkle little star\n",
      "        How I wonder what you are\n"
     ]
    }
   ],
   "source": [
    "print('''Twinkle, twinkle, little star\n",
    "                  How I wonder what you are\n",
    "                         Up above the world so high\n",
    "                         Like a diamond in the sky\n",
    "Twinkle, twinkle little star\n",
    "        How I wonder what you are''')"
   ]
  },
  {
   "cell_type": "code",
   "execution_count": 3,
   "id": "8407b1c4",
   "metadata": {},
   "outputs": [
    {
     "name": "stdout",
     "output_type": "stream",
     "text": [
      "Python version\n",
      "3.8.8 (default, Apr 13 2021, 15:08:03) [MSC v.1916 64 bit (AMD64)]\n"
     ]
    }
   ],
   "source": [
    "import sys\n",
    "print(\"Python version\")\n",
    "print (sys.version)"
   ]
  },
  {
   "cell_type": "code",
   "execution_count": 5,
   "id": "f5508a64",
   "metadata": {},
   "outputs": [
    {
     "name": "stdout",
     "output_type": "stream",
     "text": [
      "date and time = 30/12/2021 21:50:06\n"
     ]
    }
   ],
   "source": [
    "from datetime import datetime\n",
    "dt_string = now.strftime(\"%d/%m/%Y %H:%M:%S\")\n",
    "print(\"date and time =\", dt_string)"
   ]
  },
  {
   "cell_type": "code",
   "execution_count": 6,
   "id": "a0f9da7c",
   "metadata": {},
   "outputs": [
    {
     "name": "stdout",
     "output_type": "stream",
     "text": [
      "Input the radius of the circle : 6\n",
      "The area of the circle with radius 6.0 is: 113.09733552923255\n"
     ]
    }
   ],
   "source": [
    "from math import pi\n",
    "r = float(input (\"Input the radius of the circle : \"))\n",
    "print (\"The area of the circle with radius \" + str(r) + \" is: \" + str(pi * r**2))\n"
   ]
  },
  {
   "cell_type": "code",
   "execution_count": 7,
   "id": "1bef548e",
   "metadata": {},
   "outputs": [
    {
     "name": "stdout",
     "output_type": "stream",
     "text": [
      "Input your First Name : Danish\n",
      "Input your Last Name : Maheshwari\n",
      "Hello  Maheshwari Danish\n"
     ]
    }
   ],
   "source": [
    "fname = input(\"Input your First Name : \")\n",
    "lname = input(\"Input your Last Name : \")\n",
    "print (\"Hello  \" + lname + \" \" + fname)"
   ]
  },
  {
   "cell_type": "code",
   "execution_count": 9,
   "id": "2c701e32",
   "metadata": {},
   "outputs": [
    {
     "name": "stdout",
     "output_type": "stream",
     "text": [
      "Enter the value of a = 5\n",
      "Enter the value of b = 6\n",
      "ADDITION =  11\n"
     ]
    }
   ],
   "source": [
    "a=int(input(\"Enter the value of a = \"))\n",
    "b=int(input(\"Enter the value of b = \"))\n",
    "print(\"ADDITION = \",a+b)"
   ]
  },
  {
   "cell_type": "code",
   "execution_count": null,
   "id": "feffa693",
   "metadata": {},
   "outputs": [],
   "source": []
  }
 ],
 "metadata": {
  "kernelspec": {
   "display_name": "Python 3",
   "language": "python",
   "name": "python3"
  },
  "language_info": {
   "codemirror_mode": {
    "name": "ipython",
    "version": 3
   },
   "file_extension": ".py",
   "mimetype": "text/x-python",
   "name": "python",
   "nbconvert_exporter": "python",
   "pygments_lexer": "ipython3",
   "version": "3.8.8"
  }
 },
 "nbformat": 4,
 "nbformat_minor": 5
}
